{
 "cells": [
  {
   "cell_type": "markdown",
   "id": "ccde281f-1a97-46ad-951b-9954113d0146",
   "metadata": {},
   "source": [
    "# Packages for automating EDA"
   ]
  },
  {
   "cell_type": "markdown",
   "id": "5217715b-5307-4b67-abae-48e6046e4326",
   "metadata": {},
   "source": [
    "Load basic packages and data"
   ]
  },
  {
   "cell_type": "code",
   "execution_count": null,
   "id": "e009982c-39b1-4e07-b19e-57a307e19f44",
   "metadata": {},
   "outputs": [],
   "source": [
    "import pandas as pd\n",
    "import matplotlib.pyplot as plt\n",
    "import seaborn as sns\n",
    "\n",
    "# Load data, convert column Year from `int` to `datetime`, and preview dataframe\n",
    "df = pd.read_csv('data/athlete_events.csv')\n",
    "df['Year'] = pd.to_datetime(df['Year'], format='%Y')\n",
    "df"
   ]
  },
  {
   "cell_type": "markdown",
   "id": "51f63fed-9a00-473e-9664-91504e20282d",
   "metadata": {},
   "source": [
    "## Mito package\n",
    "\n",
    "[Mito](https://www.trymito.io/) allows the user to EDA from a spreadsheet inside Python. You can call Mito into your Python environment, and each edit you make in the Mito spreadsheet will generate the equivalent Python in the code cell below."
   ]
  },
  {
   "cell_type": "markdown",
   "id": "4d4940c5-7e03-4865-8a22-0048541e7c0f",
   "metadata": {},
   "source": [
    "### Installing `Mito` package\n",
    "\n",
    "In Anaconda Prompt (run As Administrator), execute \n",
    "1. `python -m pip install mitoinstaller`\n",
    "2. `python -m mitoinstaller install`\n",
    "\n",
    "If installed correctly, you will see:\n",
    "\n",
    "\"\"\"\n",
    " \n",
    "Mito has finished installing\n",
    "\n",
    "Please shut down the currently running JupyterLab and relaunch it to enable Mito\n",
    "\n",
    "Then render a mitosheet following the instructions here: https://docs.trymito.io/how-to/creating-a-mitosheet\n",
    "\"\"\""
   ]
  },
  {
   "cell_type": "markdown",
   "id": "8ed808d5-3785-4aa0-a05a-dd286fa4e86e",
   "metadata": {},
   "source": [
    "### Running mito\n",
    "\n",
    "Run an empty interface to import data files"
   ]
  },
  {
   "cell_type": "code",
   "execution_count": null,
   "id": "8555a29e-4dc2-49b8-a2cf-af89829c8017",
   "metadata": {},
   "outputs": [],
   "source": [
    "import mitosheet\n",
    "mitosheet.sheet()"
   ]
  },
  {
   "cell_type": "markdown",
   "id": "914b8287-5d8b-4687-8814-898b65d538c6",
   "metadata": {},
   "source": [
    "If a database already exists, you can point to it when opening `mito` interface:"
   ]
  },
  {
   "cell_type": "code",
   "execution_count": null,
   "id": "3b0a6291-9450-41c5-93ce-c719c7002625",
   "metadata": {},
   "outputs": [],
   "source": [
    "import mitosheet\n",
    "mitosheet.sheet(df, view_df=True)"
   ]
  },
  {
   "cell_type": "markdown",
   "id": "2d7f4dc1-6138-42f5-a3fe-03f3e5133a08",
   "metadata": {},
   "source": [
    "## Lux package"
   ]
  },
  {
   "cell_type": "markdown",
   "id": "0af4250e-89b3-42de-8e1f-3113f9919ae3",
   "metadata": {
    "tags": []
   },
   "source": [
    "`pip install lux-api`"
   ]
  },
  {
   "cell_type": "code",
   "execution_count": null,
   "id": "bf20c812-92a3-4288-8086-0bf716c05dfc",
   "metadata": {},
   "outputs": [],
   "source": [
    "import lux"
   ]
  },
  {
   "cell_type": "markdown",
   "id": "f4666555-e07f-4ec1-8b38-5005f92e8a98",
   "metadata": {},
   "source": [
    "## Sweetviz\n",
    "\n",
    "Sweetviz is self-described as *an open-source Python library that generates beautiful, high-density visualizations to kickstart EDA (Exploratory Data Analysis) with just two lines of code.*\n",
    "\n",
    "Sweetviz can be installed with pip.\n",
    "\n",
    "`pip install sweetviz`\n",
    "\n",
    "we can generate HTML reports with Sweetviz:"
   ]
  },
  {
   "cell_type": "code",
   "execution_count": null,
   "id": "dab81432-4979-48ad-8274-8cab8f3265bf",
   "metadata": {},
   "outputs": [],
   "source": [
    "import sweetviz as sv\n",
    "my_report = sv.analyze(df)\n",
    "my_report.show_html()"
   ]
  },
  {
   "cell_type": "code",
   "execution_count": null,
   "id": "cd6329d9-dde0-48da-9673-636df523e9c2",
   "metadata": {},
   "outputs": [],
   "source": []
  },
  {
   "cell_type": "markdown",
   "id": "59475958-1558-4c8d-99f4-89913580bd8d",
   "metadata": {},
   "source": [
    "## Pandas Profiling\n",
    "\n",
    "Pandas Profiling is a good tool that allows us to easily obtain information including data types, missing and unique values, and correlations between variables. It also allows us to generate interactive HTML reports.\n",
    "\n",
    "Pandas Profiling can be installed viapip:\n",
    "\n",
    "`pip install pandas-profiling`\n",
    "\n",
    "Generating a report is simple. Let's import Pandas Profiling and create a report:"
   ]
  },
  {
   "cell_type": "code",
   "execution_count": null,
   "id": "f8dca879-df50-46e6-a7c2-b0d80f3b6611",
   "metadata": {},
   "outputs": [],
   "source": [
    "from pandas_profiling import ProfileReport\n",
    "\n",
    "# generate report with pandas profiling\n",
    "profile = ProfileReport(df, title='Worker Report')\n",
    "profile"
   ]
  },
  {
   "cell_type": "code",
   "execution_count": null,
   "id": "e9871811-f016-4613-95be-5bebdc868443",
   "metadata": {},
   "outputs": [],
   "source": []
  },
  {
   "cell_type": "markdown",
   "id": "724b49c9-7e76-410e-90f1-ff0442f4a832",
   "metadata": {},
   "source": [
    "## DataPrep\n",
    "\n",
    "DataPrep bills itself as *the fastest and the easiest EDA tool in Python. It allows data scientists to understand a Pandas/Dask DataFrame with a few lines of code in seconds.*\n",
    "\n",
    "It is indeed very easy to use and can reduce the EDA process to just a few lines of code.\n",
    "\n",
    "DataPrep is easy to install with pip:\n",
    "\n",
    "`pip install dataprep`\n",
    "\n",
    "We can use the `plot()` method to visualize our entire dataframe and to show key insights:"
   ]
  },
  {
   "cell_type": "code",
   "execution_count": null,
   "id": "5628e1f4-26e1-4727-9664-5c07de235319",
   "metadata": {},
   "outputs": [],
   "source": [
    "from dataprep.eda import plot\n",
    "\n",
    "# using dataprep's plot method to get insights on each variable\n",
    "plot(df)"
   ]
  },
  {
   "cell_type": "code",
   "execution_count": null,
   "id": "2b3ceddd-b013-4a93-a947-bf71765f69e1",
   "metadata": {},
   "outputs": [],
   "source": []
  }
 ],
 "metadata": {
  "kernelspec": {
   "display_name": "Python 3 (ipykernel)",
   "language": "python",
   "name": "python3"
  },
  "language_info": {
   "codemirror_mode": {
    "name": "ipython",
    "version": 3
   },
   "file_extension": ".py",
   "mimetype": "text/x-python",
   "name": "python",
   "nbconvert_exporter": "python",
   "pygments_lexer": "ipython3",
   "version": "3.9.7"
  }
 },
 "nbformat": 4,
 "nbformat_minor": 5
}
